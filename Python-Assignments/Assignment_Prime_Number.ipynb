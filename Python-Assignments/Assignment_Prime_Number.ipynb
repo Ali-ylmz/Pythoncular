{
 "cells": [
  {
   "cell_type": "code",
   "execution_count": 64,
   "id": "7648d309",
   "metadata": {},
   "outputs": [
    {
     "name": "stdout",
     "output_type": "stream",
     "text": [
      "Enter a number: 1973\n",
      "1973 is a prime number\n"
     ]
    }
   ],
   "source": [
    "number = int(input(\"Enter a number: \"))\n",
    "if all (number % i != 0 for i in range(2, number)):\n",
    "    print(number,\"is a prime number\")                       \n",
    "else:\n",
    "    print(number,\"is not a prime number\") "
   ]
  },
  {
   "cell_type": "code",
   "execution_count": null,
   "id": "e0a01146",
   "metadata": {},
   "outputs": [],
   "source": []
  },
  {
   "cell_type": "code",
   "execution_count": null,
   "id": "461d3aa3",
   "metadata": {},
   "outputs": [],
   "source": []
  },
  {
   "cell_type": "code",
   "execution_count": null,
   "id": "26a6171f",
   "metadata": {},
   "outputs": [],
   "source": []
  }
 ],
 "metadata": {
  "kernelspec": {
   "display_name": "Python 3",
   "language": "python",
   "name": "python3"
  },
  "language_info": {
   "codemirror_mode": {
    "name": "ipython",
    "version": 3
   },
   "file_extension": ".py",
   "mimetype": "text/x-python",
   "name": "python",
   "nbconvert_exporter": "python",
   "pygments_lexer": "ipython3",
   "version": "3.8.8"
  }
 },
 "nbformat": 4,
 "nbformat_minor": 5
}
