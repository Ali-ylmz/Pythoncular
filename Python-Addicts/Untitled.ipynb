{
 "cells": [
  {
   "cell_type": "code",
   "execution_count": 3,
   "source": [
    "lst = [1,2,3]\r\n",
    "lst_new = []\r\n",
    "for i in lst:\r\n",
    "    for j in lst:\r\n",
    "        for k in lst:\r\n",
    "            if i != j and j != k and i != k:\r\n",
    "                lst_new.append([i,j,k])\r\n",
    "print(lst_new)\r\n"
   ],
   "outputs": [
    {
     "output_type": "stream",
     "name": "stdout",
     "text": [
      "[[1, 2, 3], [1, 3, 2], [2, 1, 3], [2, 3, 1], [3, 1, 2], [3, 2, 1]]\n"
     ]
    }
   ],
   "metadata": {}
  },
  {
   "cell_type": "code",
   "execution_count": 4,
   "source": [
    "list1 = [1, 2, 3]\r\n",
    "i = 1\r\n",
    "fact = 1\r\n",
    "while i < len(list1) + 1 :\r\n",
    "    fact *= i\r\n",
    "    i += 1\r\n",
    "i = 1\r\n",
    "fact_dict = {}\r\n",
    "while i < fact + 1:\r\n",
    "    fact_dict[i] = []\r\n",
    "    i += 1\r\n",
    "\r\n",
    "indx= 0 \r\n",
    "for i in range(len(list1)):\r\n",
    "    for k in range(1, fact+1):\r\n",
    "        fact_dict[k].append(list1[indx])\r\n",
    "        indx += 1\r\n",
    "        if indx == len(list1):\r\n",
    "            indx = 0\r\n",
    "    indx += 1   \r\n",
    "       \r\n",
    "print(list(fact_dict.values()))"
   ],
   "outputs": [
    {
     "output_type": "stream",
     "name": "stdout",
     "text": [
      "[[1, 2, 3], [2, 3, 1], [3, 1, 2], [1, 2, 3], [2, 3, 1], [3, 1, 2]]\n"
     ]
    }
   ],
   "metadata": {}
  }
 ],
 "metadata": {
  "kernelspec": {
   "name": "python3",
   "display_name": "Python 3.8.8 64-bit ('base': conda)"
  },
  "language_info": {
   "codemirror_mode": {
    "name": "ipython",
    "version": 3
   },
   "file_extension": ".py",
   "mimetype": "text/x-python",
   "name": "python",
   "nbconvert_exporter": "python",
   "pygments_lexer": "ipython3",
   "version": "3.8.8"
  },
  "interpreter": {
   "hash": "c2c440561eadd0fa45e88072f29f5326703e327b87d123de35331166474665ec"
  }
 },
 "nbformat": 4,
 "nbformat_minor": 5
}