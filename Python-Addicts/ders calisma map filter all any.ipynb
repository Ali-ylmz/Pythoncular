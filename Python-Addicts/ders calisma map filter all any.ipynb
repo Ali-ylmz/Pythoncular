{
 "cells": [
  {
   "cell_type": "code",
   "execution_count": 3,
   "id": "bfcf3f8a",
   "metadata": {},
   "outputs": [
    {
     "name": "stdout",
     "output_type": "stream",
     "text": [
      "[[1, 2, 3], [1, 3, 2], [2, 1, 3], [2, 3, 1], [3, 1, 2], [3, 2, 1]]\n"
     ]
    }
   ],
   "source": []
  },
  {
   "cell_type": "code",
   "execution_count": 4,
   "id": "14bad69b",
   "metadata": {},
   "outputs": [
    {
     "name": "stdout",
     "output_type": "stream",
     "text": [
      "[[1, 2, 3], [2, 3, 1], [3, 1, 2], [1, 2, 3], [2, 3, 1], [3, 1, 2]]\n"
     ]
    }
   ],
   "source": []
  },
  {
   "cell_type": "code",
   "execution_count": 5,
   "id": "ead4ebc4",
   "metadata": {},
   "outputs": [
    {
     "name": "stdout",
     "output_type": "stream",
     "text": [
      "[1, 4, 9, 16, 25, 36, 49, 64]\n",
      "[1, 2, 3, 4, 5, 6, 7, 8]\n",
      "[1, 2, 3, 4, 5, 6, 7, 8]\n"
     ]
    }
   ],
   "source": [
    "sayilar = [1, -2, 3, -4, 5, 6, 7, 8]\n",
    "sayilar2 = [\"1\", \"2\", \"3\", \"4\", \"5\", \"6\", \"7\", \"8\"]\n",
    "sonuc = list(map(lambda sayi: sayi ** 2, sayilar))\n",
    "print(sonuc)\n",
    "sonuc = list(map(int, sayilar2))\n",
    "print(sonuc)\n",
    "sonuc = list(map(abs,sayilar))\n",
    "print(sonuc)"
   ]
  },
  {
   "cell_type": "code",
   "execution_count": 6,
   "id": "c54e05d0",
   "metadata": {},
   "outputs": [
    {
     "name": "stdout",
     "output_type": "stream",
     "text": [
      "[1.0, -2.0, 3.0, -4.0, 5.0, 6.0, 7.0, 8.0]\n"
     ]
    }
   ],
   "source": [
    "sonuc = list(map(float,sayilar))\n",
    "print(sonuc)"
   ]
  },
  {
   "cell_type": "code",
   "execution_count": 9,
   "id": "20fbcd62",
   "metadata": {},
   "outputs": [
    {
     "name": "stdout",
     "output_type": "stream",
     "text": [
      "[3, 5, 4, 5]\n"
     ]
    }
   ],
   "source": [
    "isimler = [\"Ali\", \"Deniz\", \"Ayse\", \"Murat\"]\n",
    "sonuc = list(map(len,isimler))\n",
    "print(sonuc)"
   ]
  },
  {
   "cell_type": "code",
   "execution_count": 10,
   "id": "bd5b9aca",
   "metadata": {},
   "outputs": [
    {
     "name": "stdout",
     "output_type": "stream",
     "text": [
      "['ali', 'deniz', 'ayse', 'murat']\n"
     ]
    }
   ],
   "source": [
    "isimler = [\"Ali\", \"Deniz\", \"Ayse\", \"Murat\"]\n",
    "sonuc = list(map(str.lower,isimler))\n",
    "print(sonuc)"
   ]
  },
  {
   "cell_type": "code",
   "execution_count": 12,
   "id": "fa3a86ba",
   "metadata": {},
   "outputs": [],
   "source": [
    "kullanicilar = [\n",
    "    {\"ad\": \"ali\", \"soyad\":\"Yılmaz\"},\n",
    "    {\"ad\": \"ahmet\", \"soyad\":\"Yılmaz\"} ]"
   ]
  },
  {
   "cell_type": "code",
   "execution_count": 13,
   "id": "d13ad3be",
   "metadata": {},
   "outputs": [
    {
     "name": "stdout",
     "output_type": "stream",
     "text": [
      "['ali', 'ahmet']\n"
     ]
    }
   ],
   "source": [
    "sonuc = list(map(lambda x: x[\"ad\"], kullanicilar))\n",
    "print(sonuc)"
   ]
  },
  {
   "cell_type": "code",
   "execution_count": 14,
   "id": "aa1c168d",
   "metadata": {},
   "outputs": [
    {
     "name": "stdout",
     "output_type": "stream",
     "text": [
      "['SADIKTURAN', 'SENATURAN']\n"
     ]
    }
   ],
   "source": [
    "yaslar = [5,12,18,24,45]\n",
    "\n",
    "def yetiskinmi(x):\n",
    "    if x<18:\n",
    "        return False\n",
    "    else: \n",
    "        return True"
   ]
  },
  {
   "cell_type": "code",
   "execution_count": 16,
   "id": "7c3528d2",
   "metadata": {},
   "outputs": [
    {
     "name": "stdout",
     "output_type": "stream",
     "text": [
      "[18, 24, 45]\n"
     ]
    }
   ],
   "source": [
    "sonuc = list(filter(yetiskinmi, yaslar))\n",
    "sonuc = list(filter(lambda x: x>=18, yaslar))\n",
    "print(sonuc)"
   ]
  },
  {
   "cell_type": "code",
   "execution_count": null,
   "id": "e5cee843",
   "metadata": {},
   "outputs": [],
   "source": [
    "sayilar = [0,1,25,6,8,9]\n",
    "sonuc = list(filter(lambda x: x%2!=0, sayilar))\n",
    "print(sonuc)"
   ]
  },
  {
   "cell_type": "code",
   "execution_count": 18,
   "id": "e391825a",
   "metadata": {},
   "outputs": [
    {
     "data": {
      "text/plain": [
       "['ayse', 'ada', 'ali']"
      ]
     },
     "execution_count": 18,
     "metadata": {},
     "output_type": "execute_result"
    }
   ],
   "source": [
    "isimler = [\"defne\",\"ayse\",\"sena\",\"ada\",\"ali\"]\n",
    "sonuc = list(filter(lambda n: n[0]=='a',isimler))\n",
    "sonuc"
   ]
  },
  {
   "cell_type": "code",
   "execution_count": 19,
   "id": "55356da3",
   "metadata": {},
   "outputs": [
    {
     "data": {
      "text/plain": [
       "['AYSE', 'ADA', 'ALI']"
      ]
     },
     "execution_count": 19,
     "metadata": {},
     "output_type": "execute_result"
    }
   ],
   "source": [
    "filteredResult = filter(lambda n: n[0]=='a',isimler)\n",
    "sonuc = list(map(lambda n: n.upper(), filteredResult))\n",
    "sonuc"
   ]
  },
  {
   "cell_type": "code",
   "execution_count": 28,
   "id": "7d3d221b",
   "metadata": {},
   "outputs": [],
   "source": [
    "users = [\n",
    "    {\"username\":\"sadikturan\", \"tweets\": [\"tweet 1\",\"tweet 2\"]},\n",
    "    {\"username\":\"cinarturan\", \"tweets\": []},\n",
    "    {\"username\":\"senaturan\", \"tweets\": [\"tweet 1\"]}\n",
    "]\n"
   ]
  },
  {
   "cell_type": "code",
   "execution_count": 32,
   "id": "bd0dc115",
   "metadata": {},
   "outputs": [
    {
     "data": {
      "text/plain": [
       "[{'username': 'sadikturan', 'tweets': ['tweet 1', 'tweet 2']},\n",
       " {'username': 'senaturan', 'tweets': ['tweet 1']}]"
      ]
     },
     "execution_count": 32,
     "metadata": {},
     "output_type": "execute_result"
    }
   ],
   "source": [
    "sonuc = list(filter(lambda u: len(u[\"tweets\"])>0, users))\n",
    "sonuc"
   ]
  },
  {
   "cell_type": "code",
   "execution_count": 30,
   "id": "c3f16d4d",
   "metadata": {},
   "outputs": [
    {
     "data": {
      "text/plain": [
       "['SADIKTURAN', 'SENATURAN']"
      ]
     },
     "execution_count": 30,
     "metadata": {},
     "output_type": "execute_result"
    }
   ],
   "source": [
    "sonuc = list(map(lambda  u: u[\"username\"].upper(), filter(lambda u: len(u[\"tweets\"])>0, users)))\n",
    "sonuc"
   ]
  },
  {
   "cell_type": "code",
   "execution_count": 31,
   "id": "9e118910",
   "metadata": {},
   "outputs": [
    {
     "name": "stdout",
     "output_type": "stream",
     "text": [
      "['SADIKTURAN', 'SENATURAN']\n"
     ]
    }
   ],
   "source": [
    "sonuc = [user[\"username\"].upper() for user in users if len(user[\"tweets\"])>0]\n",
    "print(sonuc)"
   ]
  },
  {
   "cell_type": "code",
   "execution_count": 35,
   "id": "10fe9855",
   "metadata": {},
   "outputs": [
    {
     "name": "stdout",
     "output_type": "stream",
     "text": [
      "False\n"
     ]
    }
   ],
   "source": [
    "sonuc = all([True,True,False])\n",
    "#sonuc = all([True,True,True])\n",
    "#sonuc = any([True,False,False])\n",
    "\n",
    "# And => True and True => True => All()\n",
    "# Or  => True or False => True => Any()\n",
    "\n",
    "\n",
    "print(sonuc)"
   ]
  },
  {
   "cell_type": "code",
   "execution_count": 38,
   "id": "f37e6b04",
   "metadata": {},
   "outputs": [
    {
     "name": "stdout",
     "output_type": "stream",
     "text": [
      "True\n"
     ]
    }
   ],
   "source": [
    "sayilar = [0,1,3,6,8,9,10]\n",
    "\n",
    "sonuc = any([bool(sayi) for sayi in sayilar])\n",
    "print(sonuc)"
   ]
  },
  {
   "cell_type": "code",
   "execution_count": 39,
   "id": "d6fccc39",
   "metadata": {},
   "outputs": [
    {
     "name": "stdout",
     "output_type": "stream",
     "text": [
      "False\n"
     ]
    }
   ],
   "source": [
    "sonuc = all([bool(sayi) for sayi in sayilar])\n",
    "print(sonuc)"
   ]
  },
  {
   "cell_type": "code",
   "execution_count": 40,
   "id": "fec0679a",
   "metadata": {},
   "outputs": [
    {
     "name": "stdout",
     "output_type": "stream",
     "text": [
      "True\n"
     ]
    }
   ],
   "source": [
    "sonuc = all([bool(sayi) for sayi in sayilar if sayi%2==1])\n",
    "print(sonuc)"
   ]
  },
  {
   "cell_type": "code",
   "execution_count": null,
   "id": "bdda8edb",
   "metadata": {},
   "outputs": [],
   "source": [
    "sonuc = all([sayi%2==0 for sayi in sayilar])\n",
    "print(sonuc)"
   ]
  },
  {
   "cell_type": "code",
   "execution_count": null,
   "id": "21539374",
   "metadata": {},
   "outputs": [],
   "source": [
    "sonuc = any([sayi%2==0 for sayi in sayilar])\n",
    "print(sonuc)"
   ]
  },
  {
   "cell_type": "code",
   "execution_count": null,
   "id": "ec1043f7",
   "metadata": {},
   "outputs": [],
   "source": [
    "kisiler = [\"ali\",\"ahmet\",\"çınar\"]\n",
    "\n",
    "sonuc = any([kisi[0]=='a' for kisi in kisiler])\n",
    "print(sonuc)"
   ]
  },
  {
   "cell_type": "code",
   "execution_count": null,
   "id": "210f0e96",
   "metadata": {},
   "outputs": [],
   "source": [
    "sonuc = all([kisi[0]=='a' for kisi in kisiler if kisi[0]=='a'])\n",
    "print(sonuc)"
   ]
  },
  {
   "cell_type": "code",
   "execution_count": null,
   "id": "987102e2",
   "metadata": {},
   "outputs": [],
   "source": []
  },
  {
   "cell_type": "code",
   "execution_count": null,
   "id": "26f0a97e",
   "metadata": {},
   "outputs": [],
   "source": []
  }
 ],
 "metadata": {
  "interpreter": {
   "hash": "c2c440561eadd0fa45e88072f29f5326703e327b87d123de35331166474665ec"
  },
  "kernelspec": {
   "display_name": "Python 3",
   "language": "python",
   "name": "python3"
  },
  "language_info": {
   "codemirror_mode": {
    "name": "ipython",
    "version": 3
   },
   "file_extension": ".py",
   "mimetype": "text/x-python",
   "name": "python",
   "nbconvert_exporter": "python",
   "pygments_lexer": "ipython3",
   "version": "3.8.8"
  }
 },
 "nbformat": 4,
 "nbformat_minor": 5
}
