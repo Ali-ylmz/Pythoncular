{
 "cells": [
  {
   "cell_type": "code",
   "execution_count": null,
   "id": "51757733",
   "metadata": {},
   "outputs": [],
   "source": [
    "from my_module import * "
   ]
  },
  {
   "cell_type": "code",
   "execution_count": null,
   "id": "b64ee3a2",
   "metadata": {},
   "outputs": [],
   "source": [
    "add(3,6)"
   ]
  },
  {
   "cell_type": "code",
   "execution_count": null,
   "id": "f245e552",
   "metadata": {},
   "outputs": [],
   "source": [
    "import my_module as mym\n",
    "mym.my_function()\n",
    "print(mym.my_variable)"
   ]
  },
  {
   "cell_type": "code",
   "execution_count": null,
   "id": "4218e849",
   "metadata": {},
   "outputs": [],
   "source": [
    "from my_module import my_function as mfnc\n",
    "mfnc()"
   ]
  },
  {
   "cell_type": "code",
   "execution_count": null,
   "id": "3c63ba50",
   "metadata": {},
   "outputs": [],
   "source": [
    "import module_1\n",
    "import module_2\n",
    "import module_3"
   ]
  },
  {
   "cell_type": "code",
   "execution_count": null,
   "id": "2f73e3f8",
   "metadata": {},
   "outputs": [],
   "source": []
  },
  {
   "cell_type": "code",
   "execution_count": null,
   "id": "9605eedf",
   "metadata": {},
   "outputs": [],
   "source": []
  },
  {
   "cell_type": "code",
   "execution_count": null,
   "id": "aa640c85",
   "metadata": {},
   "outputs": [],
   "source": []
  },
  {
   "cell_type": "code",
   "execution_count": null,
   "id": "38b51df2",
   "metadata": {},
   "outputs": [],
   "source": []
  },
  {
   "cell_type": "code",
   "execution_count": null,
   "id": "86d23dc5",
   "metadata": {},
   "outputs": [],
   "source": []
  },
  {
   "cell_type": "code",
   "execution_count": null,
   "id": "4b841152",
   "metadata": {},
   "outputs": [],
   "source": []
  }
 ],
 "metadata": {
  "kernelspec": {
   "display_name": "Python 3",
   "language": "python",
   "name": "python3"
  },
  "language_info": {
   "codemirror_mode": {
    "name": "ipython",
    "version": 3
   },
   "file_extension": ".py",
   "mimetype": "text/x-python",
   "name": "python",
   "nbconvert_exporter": "python",
   "pygments_lexer": "ipython3",
   "version": "3.8.8"
  }
 },
 "nbformat": 4,
 "nbformat_minor": 5
}
