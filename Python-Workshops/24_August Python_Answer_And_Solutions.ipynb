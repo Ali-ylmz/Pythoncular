{
 "cells": [
  {
   "cell_type": "markdown",
   "id": "0f9b1fd0",
   "metadata": {},
   "source": [
    "# Answer-1\n",
    "\n",
    "Negatif olmayan iki sayı alınız ve bu iki sayı arasındaki sayılardan tek olanları key, karelerini de value olacak şekilde sözlük haline getiren bir fonksiyon yazınız. (Sayıların kendileri dahil!)"
   ]
  },
  {
   "cell_type": "code",
   "execution_count": 15,
   "id": "3648f1a2",
   "metadata": {},
   "outputs": [
    {
     "data": {
      "text/plain": [
       "{3: 9, 5: 25, 7: 49, 9: 81, 11: 121, 13: 169, 15: 225}"
      ]
     },
     "execution_count": 15,
     "metadata": {},
     "output_type": "execute_result"
    }
   ],
   "source": [
    "def sozluk(num1, num2):\n",
    "    lst1= [i for i in range(num1, num2+1) if i%2==1]\n",
    "    lst2 = [i**2 for i in range(num1, num2+1) if i%2==1]\n",
    "    return dict(zip(lst1,lst2))\n",
    "\n",
    "sozluk(3, 15)"
   ]
  },
  {
   "cell_type": "code",
   "execution_count": 6,
   "id": "cc4fdde8",
   "metadata": {},
   "outputs": [
    {
     "data": {
      "text/plain": [
       "{11: 121, 13: 169, 15: 225, 17: 289, 19: 361}"
      ]
     },
     "execution_count": 6,
     "metadata": {},
     "output_type": "execute_result"
    }
   ],
   "source": [
    "\n",
    "lst =dict(zip([i for i in range(10, 20) if i%2==1],[i**2 for i in range(10, 20) if i%2==1]))\n",
    "lst"
   ]
  },
  {
   "cell_type": "markdown",
   "id": "d47272cb",
   "metadata": {},
   "source": [
    "# Answer-2\n",
    "\n",
    "Verilen bir kuruluşu oluşturan kelimelerin baş harflerini kullanarak kısaltma oluşturan bir fonksiyon yazınız."
   ]
  },
  {
   "cell_type": "code",
   "execution_count": 17,
   "id": "ef1762b5",
   "metadata": {},
   "outputs": [
    {
     "data": {
      "text/plain": [
       "'TKSTSK'"
      ]
     },
     "execution_count": 17,
     "metadata": {},
     "output_type": "execute_result"
    }
   ],
   "source": [
    "def kisaltma(kurulus):\n",
    "    kisa = \"\"\n",
    "    lst = kurulus.split()\n",
    "    for i in lst:\n",
    "        kisa += i[0]\n",
    "    return kisa\n",
    "    \n",
    "kisaltma(\"Turkiye Kanarya Sevenler Tarihi Spor Kulubu\")"
   ]
  },
  {
   "cell_type": "markdown",
   "id": "a9ca7c9f",
   "metadata": {},
   "source": [
    "# Answer-3\n",
    "\n",
    "Ardışık sıfırlar ve birler:\n",
    "\n",
    "Bu sorunun amacı, yalnızca sıfırlar ve birlerden oluşan bir ikili diziyi analiz etmektir. Kodunuz, dizedeki en büyük ardışık sıfır ve birlerin sayısını bulmalıdır. Örneğin, dize verildiğinde:\n",
    "\n",
    "\"1001101000110\" Ardışık sıfırların en büyük sayısı 3'tür.\n",
    "\n",
    "\"1001101000110\" Ardışık birlerin en büyük sayısı 2'dir.\n",
    "\n",
    "Sıfırlar ve birler dizisi olan tek bir parametre alan ardışık_sıfırlar adlı bir işlev tanımlayın. İşleviniz yukarıda açıklanan numarayı döndürmelidir."
   ]
  },
  {
   "cell_type": "code",
   "execution_count": 62,
   "id": "a58d8c9f",
   "metadata": {},
   "outputs": [
    {
     "data": {
      "text/plain": [
       "\"Ardışık sıfırların en büyük sayısı 3'tür. Ardışık birlerin en büyük sayısı 2'dir.\""
      ]
     },
     "execution_count": 62,
     "metadata": {},
     "output_type": "execute_result"
    }
   ],
   "source": [
    "def ardisiklar(dizi):\n",
    "    lst1=[]\n",
    "    lst0=[]\n",
    "    count1, count0 = 0, 0\n",
    "    for i in dizi:\n",
    "        if i == \"1\":\n",
    "            count1 +=1\n",
    "            lst0.append(count0)\n",
    "            count0 = 0\n",
    "        else:\n",
    "            count0 +=1\n",
    "            lst1.append(count1)\n",
    "            count1 = 0\n",
    "    return f\"Ardışık sıfırların en büyük sayısı {max(lst0)}'tür.\\\n",
    " Ardışık birlerin en büyük sayısı {max(lst1)}'dir.\"    \n",
    "  \n",
    "    \n",
    "ardisiklar(\"1001101000110\")   "
   ]
  },
  {
   "cell_type": "code",
   "execution_count": 55,
   "id": "e01e6ce4",
   "metadata": {},
   "outputs": [
    {
     "name": "stdout",
     "output_type": "stream",
     "text": [
      "Ardışık sıfırların en büyük sayısı 3'tür.\n",
      "Ardışık birlerin en büyük sayısı 2'dir.\n"
     ]
    }
   ],
   "source": [
    "a= \"1001101000110\"\n",
    "lst1=[]\n",
    "lst0=[]\n",
    "count1 = 0\n",
    "count0 = 0\n",
    "for i in a:\n",
    "    if i == \"1\":\n",
    "        count1 +=1\n",
    "        lst0.append(count0)\n",
    "        count0 = 0\n",
    "    else:\n",
    "        count0 +=1\n",
    "        lst1.append(count1)\n",
    "        count1 = 0\n",
    "print(f\"Ardışık sıfırların en büyük sayısı {max(lst0)}'tür.\\n\\\n",
    "Ardışık birlerin en büyük sayısı {max(lst1)}'dir.\")\n"
   ]
  },
  {
   "cell_type": "markdown",
   "id": "f3636c1e",
   "metadata": {},
   "source": [
    "# Answer-4\n",
    "\n",
    "Parametre olarak negatif olmayan bir sayı alan \"format_number\" adında bir fonksiyon yazın.\n",
    "\n",
    "Fonksiyonunuz sayıyı bir stringe dönüştürmeli ve binlik ayırıcı olarak virgül eklemelidir.\n",
    "\n",
    "Örneğin, format_number(1000000) Output: \"1,000,000\" çıktısını vermelidir."
   ]
  },
  {
   "cell_type": "code",
   "execution_count": 65,
   "id": "8e382d13",
   "metadata": {},
   "outputs": [
    {
     "data": {
      "text/plain": [
       "'1,000,000'"
      ]
     },
     "execution_count": 65,
     "metadata": {},
     "output_type": "execute_result"
    }
   ],
   "source": [
    "def format_number(num):\n",
    "    a = str(num)[-1:-4:-1]\n",
    "    b = str(num)[-4:-7:-1]\n",
    "    c = str(num)[-7::-1]\n",
    "\n",
    "    return \"%01s,%03s,%03s\" % (c, b, a)\n",
    "format_number(1000000) "
   ]
  },
  {
   "cell_type": "code",
   "execution_count": 78,
   "id": "2c816336",
   "metadata": {},
   "outputs": [
    {
     "data": {
      "text/plain": [
       "'1,000,000'"
      ]
     },
     "execution_count": 78,
     "metadata": {},
     "output_type": "execute_result"
    }
   ],
   "source": [
    "def format_number(num):\n",
    "    k = len(str(num))\n",
    "    a = str(num)[k-3:k]\n",
    "    b = str(num)[k-6:k-3]\n",
    "    c = str(num)[k-k:k-6]\n",
    "\n",
    "    return \"%01s,%03s,%03s\" % (c, b, a)\n",
    "format_number(1000000) "
   ]
  },
  {
   "cell_type": "markdown",
   "id": "bc1f8af7",
   "metadata": {},
   "source": [
    "# Answer-5\n",
    "\n",
    "Kullanıcıdan alınan bir text dizisinin tüm noktalama işaretlerini temizleyen bir fonksiyon yazınız.\n"
   ]
  },
  {
   "cell_type": "code",
   "execution_count": 95,
   "id": "b45d0aad",
   "metadata": {},
   "outputs": [
    {
     "data": {
      "text/plain": [
       "\"Benim a,.d:''+i)m (Halit\""
      ]
     },
     "execution_count": 95,
     "metadata": {},
     "output_type": "execute_result"
    }
   ],
   "source": [
    "def depunctuation(text):\n",
    "    word = \"\"\n",
    "    for i in text:\n",
    "        if not i.isalpha():\n",
    "            i.replace(i,\"\")\n",
    "            \n",
    "        else:\n",
    "            word +=i\n",
    "    return text\n",
    "depunctuation(\"Benim a,.d:''\"\"+i)m (Halit\")"
   ]
  },
  {
   "cell_type": "markdown",
   "id": "1903900c",
   "metadata": {},
   "source": [
    "# Answer-6\n",
    "\n",
    "Bir markete gittiniz. Markette her ürünün bir kod numarası var.\n",
    "1 : Domates 2 : Soğan 3 : Biber 4 : Yumurta 5 : Elma 6 : Armut ... vs. şeklinde.\n",
    "Kullanıcıya almak istediği ürünü sorunuz ve kod numarası ile seçim yaptırınız. Çıkış için \"q\" opsiyonunu sununuz. Kullanıcının her ürün seçimi sonrası \" .... domates sepete eklendi\" gibi bir dönüt veriniz. Kullanıcı ürün almaya devam ettikçe ürünleri bir listede toplayınız, almaktan vazgeçtiği durumda teşekkür edip, aldığı toplam ürünleri çıktı veren bir kod yazınız.\n",
    "Beklenen Çıktı:\n",
    "Teşekkür Ederiz...\n",
    "Sepetinizde Bulunan Ürünler: elma, armut, yumurta ... vs.\n"
   ]
  },
  {
   "cell_type": "code",
   "execution_count": 119,
   "id": "123d6b14",
   "metadata": {},
   "outputs": [
    {
     "name": "stdout",
     "output_type": "stream",
     "text": [
      "BenimadimHalit\n"
     ]
    }
   ],
   "source": [
    "a = \"Benim a,.d:!$,<.>i)m (Halit\"\n",
    "word = \"\"\n",
    "for i in a:\n",
    "    if not i.isalpha():\n",
    "        i=i.replace(i,\"\")\n",
    "    else:\n",
    "        word += i\n",
    "print(word)\n",
    "    "
   ]
  },
  {
   "cell_type": "markdown",
   "id": "0bb7c2ea",
   "metadata": {},
   "source": [
    "# Answer-7\n",
    "\n",
    "1 Ocak 1900 tarihi Pazartesi günüdür.\n",
    "\n",
    "1 Ocak 1900 ile 31 Aralık 2000 arasında kaç tane pazar günü olduğunu hesaplayan python kodu yazınız.\n",
    "\n",
    "Soruyu datetime modülünü kullanarak çözünüz."
   ]
  },
  {
   "cell_type": "code",
   "execution_count": null,
   "id": "214832c6",
   "metadata": {},
   "outputs": [],
   "source": []
  }
 ],
 "metadata": {
  "kernelspec": {
   "display_name": "Python 3",
   "language": "python",
   "name": "python3"
  },
  "language_info": {
   "codemirror_mode": {
    "name": "ipython",
    "version": 3
   },
   "file_extension": ".py",
   "mimetype": "text/x-python",
   "name": "python",
   "nbconvert_exporter": "python",
   "pygments_lexer": "ipython3",
   "version": "3.8.8"
  }
 },
 "nbformat": 4,
 "nbformat_minor": 5
}
